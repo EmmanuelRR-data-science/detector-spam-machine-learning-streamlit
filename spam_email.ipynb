{
  "nbformat": 4,
  "nbformat_minor": 0,
  "metadata": {
    "colab": {
      "provenance": []
    },
    "kernelspec": {
      "name": "python3",
      "display_name": "Python 3"
    },
    "language_info": {
      "name": "python"
    }
  },
  "cells": [
    {
      "cell_type": "code",
      "execution_count": 1,
      "metadata": {
        "id": "AfTsb3FGBttX"
      },
      "outputs": [],
      "source": [
        "import pandas as pd"
      ]
    },
    {
      "cell_type": "code",
      "source": [
        "# Cargar dataset original\n",
        "df = pd.read_csv(\"spam.csv\", encoding=\"latin-1\")\n",
        "\n",
        "print(\"Shape inicial:\", df.shape)\n",
        "print(\"Columnas detectadas:\", df.columns.tolist())\n",
        "\n",
        "# Usar solo v1 y v2\n",
        "df = df[['v1', 'v2']].rename(columns={'v1':'label', 'v2':'text'})\n",
        "\n",
        "# Eliminar duplicados y nulos\n",
        "df = df.dropna().drop_duplicates()\n",
        "\n",
        "print(\"Shape final:\", df.shape)\n",
        "print(\"\\nEjemplo:\")\n",
        "print(df.head(3).to_string(index=False))"
      ],
      "metadata": {
        "colab": {
          "base_uri": "https://localhost:8080/"
        },
        "id": "4SlqszoyDV-E",
        "outputId": "e7390518-20ab-4dc1-d654-b20bd44a3aab"
      },
      "execution_count": 6,
      "outputs": [
        {
          "output_type": "stream",
          "name": "stdout",
          "text": [
            "Shape inicial: (5572, 5)\n",
            "Columnas detectadas: ['v1', 'v2', 'Unnamed: 2', 'Unnamed: 3', 'Unnamed: 4']\n",
            "Shape final: (5169, 2)\n",
            "\n",
            "Ejemplo:\n",
            "label                                                                                                                                                        text\n",
            "  ham                                             Go until jurong point, crazy.. Available only in bugis n great world la e buffet... Cine there got amore wat...\n",
            "  ham                                                                                                                               Ok lar... Joking wif u oni...\n",
            " spam Free entry in 2 a wkly comp to win FA Cup final tkts 21st May 2005. Text FA to 87121 to receive entry question(std txt rate)T&C's apply 08452810075over18's\n"
          ]
        }
      ]
    },
    {
      "cell_type": "code",
      "source": [
        "print(\"Distribución de clases:\")\n",
        "print(df['label'].value_counts())\n",
        "print(\"\\nPorcentaje:\")\n",
        "print((df['label'].value_counts(normalize=True)*100).round(2).astype(str) + \" %\")"
      ],
      "metadata": {
        "colab": {
          "base_uri": "https://localhost:8080/"
        },
        "id": "fsabuabVDd-g",
        "outputId": "251b1735-be71-4f21-9547-49a185cb688d"
      },
      "execution_count": 7,
      "outputs": [
        {
          "output_type": "stream",
          "name": "stdout",
          "text": [
            "Distribución de clases:\n",
            "label\n",
            "ham     4516\n",
            "spam     653\n",
            "Name: count, dtype: int64\n",
            "\n",
            "Porcentaje:\n",
            "label\n",
            "ham     87.37 %\n",
            "spam    12.63 %\n",
            "Name: proportion, dtype: object\n"
          ]
        }
      ]
    },
    {
      "cell_type": "code",
      "source": [
        "from sklearn.model_selection import train_test_split\n",
        "\n",
        "X = df['text']\n",
        "y = df['label']\n",
        "\n",
        "X_train, X_test, y_train, y_test = train_test_split(\n",
        "    X, y, test_size=0.2, stratify=y, random_state=42\n",
        ")\n",
        "\n",
        "print(\"Train size:\", X_train.shape[0])\n",
        "print(\"Test size:\", X_test.shape[0])"
      ],
      "metadata": {
        "colab": {
          "base_uri": "https://localhost:8080/"
        },
        "id": "i3pFWIZHDhsg",
        "outputId": "b00ac235-ec0d-4322-dc5c-5cf27eeff74b"
      },
      "execution_count": 8,
      "outputs": [
        {
          "output_type": "stream",
          "name": "stdout",
          "text": [
            "Train size: 4135\n",
            "Test size: 1034\n"
          ]
        }
      ]
    },
    {
      "cell_type": "code",
      "source": [
        "from sklearn.feature_extraction.text import TfidfVectorizer\n",
        "\n",
        "tfidf = TfidfVectorizer(\n",
        "    lowercase=True,\n",
        "    stop_words='english',   # elimina palabras comunes en inglés\n",
        "    ngram_range=(1,2),      # unigramas + bigramas\n",
        "    max_features=10000\n",
        ")\n",
        "\n",
        "X_train_tfidf = tfidf.fit_transform(X_train)\n",
        "X_test_tfidf  = tfidf.transform(X_test)\n",
        "\n",
        "print(\"TF-IDF listo ✅\")\n",
        "print(\"Shape train:\", X_train_tfidf.shape)\n",
        "print(\"Shape test :\", X_test_tfidf.shape)\n",
        "print(\"Ejemplo de features:\", tfidf.get_feature_names_out()[:10])"
      ],
      "metadata": {
        "colab": {
          "base_uri": "https://localhost:8080/"
        },
        "id": "96e3VwxuDlre",
        "outputId": "fc916de6-a176-4482-af41-2f9b15fa8b1b"
      },
      "execution_count": 9,
      "outputs": [
        {
          "output_type": "stream",
          "name": "stdout",
          "text": [
            "TF-IDF listo ✅\n",
            "Shape train: (4135, 10000)\n",
            "Shape test : (1034, 10000)\n",
            "Ejemplo de features: ['00' '00 easter' '00 sub' '00 subs' '000' '000 bonus' '000 cash'\n",
            " '000 homeowners' '000 pounds' '000 price']\n"
          ]
        }
      ]
    },
    {
      "cell_type": "code",
      "source": [
        "from sklearn.naive_bayes import MultinomialNB\n",
        "\n",
        "nb = MultinomialNB(alpha=1.0)  # smoothing\n",
        "nb.fit(X_train_tfidf, y_train)\n",
        "\n",
        "print(\"Modelo entrenado ✅\")"
      ],
      "metadata": {
        "colab": {
          "base_uri": "https://localhost:8080/"
        },
        "id": "aAK9W3lJDqub",
        "outputId": "9e87ac23-85d2-4245-be6d-bee734ed0915"
      },
      "execution_count": 10,
      "outputs": [
        {
          "output_type": "stream",
          "name": "stdout",
          "text": [
            "Modelo entrenado ✅\n"
          ]
        }
      ]
    },
    {
      "cell_type": "code",
      "source": [
        "from sklearn.metrics import accuracy_score, classification_report, confusion_matrix\n",
        "import seaborn as sns\n",
        "import matplotlib.pyplot as plt\n",
        "\n",
        "y_pred = nb.predict(X_test_tfidf)\n",
        "\n",
        "acc = accuracy_score(y_test, y_pred)\n",
        "print(f\"Accuracy: {acc:.4f}\\n\")\n",
        "\n",
        "print(\"Reporte de clasificación:\")\n",
        "print(classification_report(y_test, y_pred, digits=4))\n",
        "\n",
        "# Matriz de confusión\n",
        "cm = confusion_matrix(y_test, y_pred, labels=['ham', 'spam'])\n",
        "cm_df = pd.DataFrame(cm, index=['ham_true','spam_true'], columns=['ham_pred','spam_pred'])\n",
        "\n",
        "print(\"\\nMatriz de confusión:\")\n",
        "print(cm_df)\n",
        "\n",
        "# Heatmap\n",
        "plt.figure(figsize=(4,3))\n",
        "sns.heatmap(cm_df, annot=True, fmt='d', cmap=\"Blues\")\n",
        "plt.title(\"Confusion Matrix - Naive Bayes (TF-IDF)\")\n",
        "plt.ylabel(\"True label\")\n",
        "plt.xlabel(\"Predicted label\")\n",
        "plt.show()"
      ],
      "metadata": {
        "colab": {
          "base_uri": "https://localhost:8080/",
          "height": 628
        },
        "id": "4vBayUfEDuYh",
        "outputId": "4725d937-829c-4e44-c2cb-0975b1fa6548"
      },
      "execution_count": 11,
      "outputs": [
        {
          "output_type": "stream",
          "name": "stdout",
          "text": [
            "Accuracy: 0.9662\n",
            "\n",
            "Reporte de clasificación:\n",
            "              precision    recall  f1-score   support\n",
            "\n",
            "         ham     0.9627    1.0000    0.9810       903\n",
            "        spam     1.0000    0.7328    0.8458       131\n",
            "\n",
            "    accuracy                         0.9662      1034\n",
            "   macro avg     0.9813    0.8664    0.9134      1034\n",
            "weighted avg     0.9674    0.9662    0.9639      1034\n",
            "\n",
            "\n",
            "Matriz de confusión:\n",
            "           ham_pred  spam_pred\n",
            "ham_true        903          0\n",
            "spam_true        35         96\n"
          ]
        },
        {
          "output_type": "display_data",
          "data": {
            "text/plain": [
              "<Figure size 400x300 with 2 Axes>"
            ],
            "image/png": "[encoded data removed]"
          },
          "metadata": {}
        }
      ]
    },
    {
      "cell_type": "code",
      "source": [
        "import numpy as np\n",
        "\n",
        "# Obtener las palabras del vocabulario\n",
        "feature_names = np.array(tfidf.get_feature_names_out())\n",
        "\n",
        "# Log probabilidad por clase (coef_ en MultinomialNB)\n",
        "class_labels = nb.classes_  # ['ham', 'spam']\n",
        "log_probs = nb.feature_log_prob_\n",
        "\n",
        "# Ordenar las palabras más relevantes para spam y ham\n",
        "topn = 15  # top palabras a mostrar\n",
        "\n",
        "spam_idx = np.argsort(log_probs[1])[::-1][:topn]\n",
        "ham_idx  = np.argsort(log_probs[0])[::-1][:topn]\n",
        "\n",
        "print(\"🔎 Palabras más asociadas a SPAM:\")\n",
        "for i in spam_idx:\n",
        "    print(f\"{feature_names[i]}  (score={log_probs[1][i]:.2f})\")\n",
        "\n",
        "print(\"\\n🔎 Palabras más asociadas a HAM:\")\n",
        "for i in ham_idx:\n",
        "    print(f\"{feature_names[i]}  (score={log_probs[0][i]:.2f})\")"
      ],
      "metadata": {
        "colab": {
          "base_uri": "https://localhost:8080/"
        },
        "id": "BmSADxjuEFiK",
        "outputId": "fda18a13-7837-49fc-a0c2-cbcf6b8814d2"
      },
      "execution_count": 12,
      "outputs": [
        {
          "output_type": "stream",
          "name": "stdout",
          "text": [
            "🔎 Palabras más asociadas a SPAM:\n",
            "free  (score=-6.40)\n",
            "text  (score=-6.76)\n",
            "txt  (score=-6.79)\n",
            "mobile  (score=-6.81)\n",
            "reply  (score=-6.87)\n",
            "stop  (score=-6.88)\n",
            "ur  (score=-6.94)\n",
            "claim  (score=-6.96)\n",
            "prize  (score=-7.00)\n",
            "www  (score=-7.01)\n",
            "new  (score=-7.13)\n",
            "uk  (score=-7.13)\n",
            "won  (score=-7.19)\n",
            "cash  (score=-7.25)\n",
            "urgent  (score=-7.27)\n",
            "\n",
            "🔎 Palabras más asociadas a HAM:\n",
            "ok  (score=-5.76)\n",
            "ll  (score=-6.12)\n",
            "just  (score=-6.13)\n",
            "like  (score=-6.16)\n",
            "come  (score=-6.17)\n",
            "gt  (score=-6.17)\n",
            "know  (score=-6.17)\n",
            "lt  (score=-6.18)\n",
            "got  (score=-6.22)\n",
            "good  (score=-6.24)\n",
            "time  (score=-6.25)\n",
            "going  (score=-6.26)\n",
            "home  (score=-6.26)\n",
            "lt gt  (score=-6.27)\n",
            "lor  (score=-6.33)\n"
          ]
        }
      ]
    },
    {
      "cell_type": "code",
      "source": [
        "import matplotlib.pyplot as plt\n",
        "\n",
        "def plot_top_words(class_idx, label, color):\n",
        "    top_idx = np.argsort(log_probs[class_idx])[::-1][:15]\n",
        "    top_features = feature_names[top_idx]\n",
        "    top_scores = log_probs[class_idx][top_idx]\n",
        "\n",
        "    plt.figure(figsize=(8,5))\n",
        "    plt.barh(top_features[::-1], top_scores[::-1], color=color)\n",
        "    plt.title(f\"Top palabras asociadas a '{label}'\")\n",
        "    plt.xlabel(\"Log probabilidad\")\n",
        "    plt.show()\n",
        "\n",
        "plot_top_words(1, \"spam\", \"red\")\n",
        "plot_top_words(0, \"ham\", \"green\")"
      ],
      "metadata": {
        "colab": {
          "base_uri": "https://localhost:8080/",
          "height": 957
        },
        "id": "a2AoHyVIEJVe",
        "outputId": "a8f0de1f-31bd-42db-9adf-d538dcb4f98c"
      },
      "execution_count": 13,
      "outputs": [
        {
          "output_type": "display_data",
          "data": {
            "text/plain": [
              "<Figure size 800x500 with 1 Axes>"
            ],
            "image/png": "[encoded data removed]"
          },
          "metadata": {}
        },
        {
          "output_type": "display_data",
          "data": {
            "text/plain": [
              "<Figure size 800x500 with 1 Axes>"
            ],
            "image/png": "[encoded data removed]"
          },
          "metadata": {}
        }
      ]
    },
    {
      "cell_type": "code",
      "source": [
        "# Ejemplos manuales\n",
        "nuevos_mensajes = [\n",
        "    \"Congratulations! You've won a free ticket to Bahamas. Call now!\",\n",
        "    \"Hey, are we still meeting at 7 for dinner?\",\n",
        "    \"URGENT! Your account has been suspended, click the link to restore access.\",\n",
        "    \"Ok, I'll bring the documents tomorrow morning.\"\n",
        "]\n",
        "\n",
        "# Transformar usando el mismo vectorizador\n",
        "X_new = tfidf.transform(nuevos_mensajes)\n",
        "\n",
        "# Predecir etiquetas\n",
        "preds = nb.predict(X_new)\n",
        "probs = nb.predict_proba(X_new)\n",
        "\n",
        "# Mostrar resultados\n",
        "for msg, label, prob in zip(nuevos_mensajes, preds, probs):\n",
        "    print(f\"\\n📩 Mensaje: {msg}\")\n",
        "    print(f\"➡️ Clasificado como: {label.upper()} (Confianza: {max(prob):.2f})\")"
      ],
      "metadata": {
        "colab": {
          "base_uri": "https://localhost:8080/"
        },
        "id": "jQD2vf04EQe7",
        "outputId": "12105b5e-1da9-4283-e351-f1ac07162322"
      },
      "execution_count": 14,
      "outputs": [
        {
          "output_type": "stream",
          "name": "stdout",
          "text": [
            "\n",
            "📩 Mensaje: Congratulations! You've won a free ticket to Bahamas. Call now!\n",
            "➡️ Clasificado como: HAM (Confianza: 0.65)\n",
            "\n",
            "📩 Mensaje: Hey, are we still meeting at 7 for dinner?\n",
            "➡️ Clasificado como: HAM (Confianza: 1.00)\n",
            "\n",
            "📩 Mensaje: URGENT! Your account has been suspended, click the link to restore access.\n",
            "➡️ Clasificado como: HAM (Confianza: 0.50)\n",
            "\n",
            "📩 Mensaje: Ok, I'll bring the documents tomorrow morning.\n",
            "➡️ Clasificado como: HAM (Confianza: 0.99)\n"
          ]
        }
      ]
    },
    {
      "cell_type": "markdown",
      "source": [
        "# Dashboard en Streamlit"
      ],
      "metadata": {
        "id": "sq2ly3S2FNrn"
      }
    },
    {
      "cell_type": "code",
      "source": [
        "!pip install streamlit pyngrok"
      ],
      "metadata": {
        "colab": {
          "base_uri": "https://localhost:8080/"
        },
        "id": "ILAGdP4lEvN3",
        "outputId": "e738d6a9-3b0d-4d02-c4a8-d5b7292ea0da"
      },
      "execution_count": 16,
      "outputs": [
        {
          "output_type": "stream",
          "name": "stdout",
          "text": [
            "Collecting streamlit\n",
            "  Downloading streamlit-1.49.0-py3-none-any.whl.metadata (9.5 kB)\n",
            "Collecting pyngrok\n",
            "  Downloading pyngrok-7.3.0-py3-none-any.whl.metadata (8.1 kB)\n",
            "Requirement already satisfied: altair!=5.4.0,!=5.4.1,<6,>=4.0 in /usr/local/lib/python3.12/dist-packages (from streamlit) (5.5.0)\n",
            "Requirement already satisfied: blinker<2,>=1.5.0 in /usr/local/lib/python3.12/dist-packages (from streamlit) (1.9.0)\n",
            "Requirement already satisfied: cachetools<7,>=4.0 in /usr/local/lib/python3.12/dist-packages (from streamlit) (5.5.2)\n",
            "Requirement already satisfied: click<9,>=7.0 in /usr/local/lib/python3.12/dist-packages (from streamlit) (8.2.1)\n",
            "Requirement already satisfied: numpy<3,>=1.23 in /usr/local/lib/python3.12/dist-packages (from streamlit) (2.0.2)\n",
            "Requirement already satisfied: packaging<26,>=20 in /usr/local/lib/python3.12/dist-packages (from streamlit) (25.0)\n",
            "Requirement already satisfied: pandas<3,>=1.4.0 in /usr/local/lib/python3.12/dist-packages (from streamlit) (2.2.2)\n",
            "Requirement already satisfied: pillow<12,>=7.1.0 in /usr/local/lib/python3.12/dist-packages (from streamlit) (11.3.0)\n",
            "Requirement already satisfied: protobuf<7,>=3.20 in /usr/local/lib/python3.12/dist-packages (from streamlit) (5.29.5)\n",
            "Requirement already satisfied: pyarrow>=7.0 in /usr/local/lib/python3.12/dist-packages (from streamlit) (18.1.0)\n",
            "Requirement already satisfied: requests<3,>=2.27 in /usr/local/lib/python3.12/dist-packages (from streamlit) (2.32.4)\n",
            "Requirement already satisfied: tenacity<10,>=8.1.0 in /usr/local/lib/python3.12/dist-packages (from streamlit) (8.5.0)\n",
            "Requirement already satisfied: toml<2,>=0.10.1 in /usr/local/lib/python3.12/dist-packages (from streamlit) (0.10.2)\n",
            "Requirement already satisfied: typing-extensions<5,>=4.4.0 in /usr/local/lib/python3.12/dist-packages (from streamlit) (4.14.1)\n",
            "Requirement already satisfied: watchdog<7,>=2.1.5 in /usr/local/lib/python3.12/dist-packages (from streamlit) (6.0.0)\n",
            "Requirement already satisfied: gitpython!=3.1.19,<4,>=3.0.7 in /usr/local/lib/python3.12/dist-packages (from streamlit) (3.1.45)\n",
            "Collecting pydeck<1,>=0.8.0b4 (from streamlit)\n",
            "  Downloading pydeck-0.9.1-py2.py3-none-any.whl.metadata (4.1 kB)\n",
            "Requirement already satisfied: tornado!=6.5.0,<7,>=6.0.3 in /usr/local/lib/python3.12/dist-packages (from streamlit) (6.4.2)\n",
            "Requirement already satisfied: PyYAML>=5.1 in /usr/local/lib/python3.12/dist-packages (from pyngrok) (6.0.2)\n",
            "Requirement already satisfied: jinja2 in /usr/local/lib/python3.12/dist-packages (from altair!=5.4.0,!=5.4.1,<6,>=4.0->streamlit) (3.1.6)\n",
            "Requirement already satisfied: jsonschema>=3.0 in /usr/local/lib/python3.12/dist-packages (from altair!=5.4.0,!=5.4.1,<6,>=4.0->streamlit) (4.25.1)\n",
            "Requirement already satisfied: narwhals>=1.14.2 in /usr/local/lib/python3.12/dist-packages (from altair!=5.4.0,!=5.4.1,<6,>=4.0->streamlit) (2.1.2)\n",
            "Requirement already satisfied: gitdb<5,>=4.0.1 in /usr/local/lib/python3.12/dist-packages (from gitpython!=3.1.19,<4,>=3.0.7->streamlit) (4.0.12)\n",
            "Requirement already satisfied: python-dateutil>=2.8.2 in /usr/local/lib/python3.12/dist-packages (from pandas<3,>=1.4.0->streamlit) (2.9.0.post0)\n",
            "Requirement already satisfied: pytz>=2020.1 in /usr/local/lib/python3.12/dist-packages (from pandas<3,>=1.4.0->streamlit) (2025.2)\n",
            "Requirement already satisfied: tzdata>=2022.7 in /usr/local/lib/python3.12/dist-packages (from pandas<3,>=1.4.0->streamlit) (2025.2)\n",
            "Requirement already satisfied: charset_normalizer<4,>=2 in /usr/local/lib/python3.12/dist-packages (from requests<3,>=2.27->streamlit) (3.4.3)\n",
            "Requirement already satisfied: idna<4,>=2.5 in /usr/local/lib/python3.12/dist-packages (from requests<3,>=2.27->streamlit) (3.10)\n",
            "Requirement already satisfied: urllib3<3,>=1.21.1 in /usr/local/lib/python3.12/dist-packages (from requests<3,>=2.27->streamlit) (2.5.0)\n",
            "Requirement already satisfied: certifi>=2017.4.17 in /usr/local/lib/python3.12/dist-packages (from requests<3,>=2.27->streamlit) (2025.8.3)\n",
            "Requirement already satisfied: smmap<6,>=3.0.1 in /usr/local/lib/python3.12/dist-packages (from gitdb<5,>=4.0.1->gitpython!=3.1.19,<4,>=3.0.7->streamlit) (5.0.2)\n",
            "Requirement already satisfied: MarkupSafe>=2.0 in /usr/local/lib/python3.12/dist-packages (from jinja2->altair!=5.4.0,!=5.4.1,<6,>=4.0->streamlit) (3.0.2)\n",
            "Requirement already satisfied: attrs>=22.2.0 in /usr/local/lib/python3.12/dist-packages (from jsonschema>=3.0->altair!=5.4.0,!=5.4.1,<6,>=4.0->streamlit) (25.3.0)\n",
            "Requirement already satisfied: jsonschema-specifications>=2023.03.6 in /usr/local/lib/python3.12/dist-packages (from jsonschema>=3.0->altair!=5.4.0,!=5.4.1,<6,>=4.0->streamlit) (2025.4.1)\n",
            "Requirement already satisfied: referencing>=0.28.4 in /usr/local/lib/python3.12/dist-packages (from jsonschema>=3.0->altair!=5.4.0,!=5.4.1,<6,>=4.0->streamlit) (0.36.2)\n",
            "Requirement already satisfied: rpds-py>=0.7.1 in /usr/local/lib/python3.12/dist-packages (from jsonschema>=3.0->altair!=5.4.0,!=5.4.1,<6,>=4.0->streamlit) (0.27.0)\n",
            "Requirement already satisfied: six>=1.5 in /usr/local/lib/python3.12/dist-packages (from python-dateutil>=2.8.2->pandas<3,>=1.4.0->streamlit) (1.17.0)\n",
            "Downloading streamlit-1.49.0-py3-none-any.whl (10.0 MB)\n",
            "\u001b[2K   \u001b[90m━━━━━━━━━━━━━━━━━━━━━━━━━━━━━━━━━━━━━━━━\u001b[0m \u001b[32m10.0/10.0 MB\u001b[0m \u001b[31m61.1 MB/s\u001b[0m eta \u001b[36m0:00:00\u001b[0m\n",
            "\u001b[?25hDownloading pyngrok-7.3.0-py3-none-any.whl (25 kB)\n",
            "Downloading pydeck-0.9.1-py2.py3-none-any.whl (6.9 MB)\n",
            "\u001b[2K   \u001b[90m━━━━━━━━━━━━━━━━━━━━━━━━━━━━━━━━━━━━━━━━\u001b[0m \u001b[32m6.9/6.9 MB\u001b[0m \u001b[31m87.6 MB/s\u001b[0m eta \u001b[36m0:00:00\u001b[0m\n",
            "\u001b[?25hInstalling collected packages: pyngrok, pydeck, streamlit\n",
            "Successfully installed pydeck-0.9.1 pyngrok-7.3.0 streamlit-1.49.0\n"
          ]
        }
      ]
    },
    {
      "cell_type": "code",
      "source": [
        "# Liberar el túnel en streamlit\n",
        "from pyngrok import ngrok\n",
        "ngrok.kill()"
      ],
      "metadata": {
        "id": "_YsQJtKcFpEl"
      },
      "execution_count": 52,
      "outputs": []
    },
    {
      "cell_type": "code",
      "source": [
        "# Construir la app\n",
        "%%writefile app.py\n",
        "import streamlit as st\n",
        "import joblib\n",
        "import matplotlib.pyplot as plt\n",
        "import seaborn as sns\n",
        "from wordcloud import WordCloud\n",
        "import pandas as pd\n",
        "from sklearn.metrics import confusion_matrix, classification_report\n",
        "import numpy as np\n",
        "\n",
        "# ====================\n",
        "# Cargar modelo y vectorizador\n",
        "# ====================\n",
        "nb = joblib.load(\"modelo_spam.pkl\")\n",
        "tfidf = joblib.load(\"vectorizador_tfidf.pkl\")\n",
        "df = pd.read_csv(\"spam.csv\", encoding=\"latin-1\")  # dataset limpio de spam.csv\n",
        "\n",
        "# Verificar nombres de columnas\n",
        "print(\"Columnas originales:\", df.columns.tolist())\n",
        "\n",
        "# Mantener solo las columnas relevantes y renombrarlas\n",
        "df = df[['v1', 'v2']].rename(columns={'v1': 'label', 'v2': 'text'})\n",
        "\n",
        "# Limpiar nulos y duplicados\n",
        "df = df.dropna().drop_duplicates()\n",
        "\n",
        "# Verificar\n",
        "print(\"Columnas finales:\", df.columns.tolist())\n",
        "print(\"Primeros registros:\\n\", df.head(3).to_string(index=False))\n",
        "\n",
        "# ====================\n",
        "# Configuración de página\n",
        "# ====================\n",
        "st.set_page_config(page_title=\"Detector de Spam\", page_icon=\"📩\", layout=\"wide\")\n",
        "st.title(\"📩 Detector de Spam con Naive Bayes\")\n",
        "st.markdown(\"Este modelo clasifica mensajes como **Spam** o **Ham** y muestra un semáforo según confianza.\")\n",
        "\n",
        "# ====================\n",
        "# Pestañas\n",
        "# ====================\n",
        "tab1, tab2, tab3 = st.tabs([\"🔎 Clasificador\", \"📊 Métricas\", \"☁️ Nube de Palabras\"])\n",
        "\n",
        "# ====================\n",
        "# 🔎 Clasificador con semáforo\n",
        "# ====================\n",
        "with tab1:\n",
        "    st.subheader(\"Prueba el clasificador\")\n",
        "    mensaje = st.text_area(\"Escribe un mensaje aquí:\", height=150)\n",
        "\n",
        "    if st.button(\"Clasificar\"):\n",
        "        if mensaje.strip() != \"\":\n",
        "            X_new = tfidf.transform([mensaje])\n",
        "            pred = nb.predict(X_new)[0]\n",
        "            prob = nb.predict_proba(X_new)[0]\n",
        "            conf = max(prob)  # confianza máxima del modelo\n",
        "\n",
        "            # Semáforo según confianza\n",
        "            if conf >= 0.9:\n",
        "                semaforo = \"🟢\"\n",
        "                color_text = \"✅\"\n",
        "                texto_resultado = f\"{color_text} El mensaje parece muy seguro. (confianza: {conf:.2f})\"\n",
        "            elif conf >= 0.7:\n",
        "                semaforo = \"🟡\"\n",
        "                color_text = \"⚠️\"\n",
        "                texto_resultado = f\"{color_text} Posible SPAM, revisa el contenido del mensaje. (confianza: {conf:.2f})\"\n",
        "            else:\n",
        "                semaforo = \"🔴\"\n",
        "                color_text = \"🚨\"\n",
        "                texto_resultado = f\"{color_text} Mensaje muy inseguro, no entres en ningún link que contenga. (confianza: {conf:.2f})\"\n",
        "\n",
        "            # Mostrar resultado\n",
        "            st.markdown(f\"**Resultado:** {semaforo} {texto_resultado}\")\n",
        "        else:\n",
        "            st.warning(\"⚠️ Por favor escribe un mensaje antes de clasificar.\")\n",
        "\n",
        "# ====================\n",
        "# 📊 Métricas y matriz de confusión\n",
        "# ====================\n",
        "with tab2:\n",
        "    st.subheader(\"Evaluación del modelo\")\n",
        "\n",
        "    # Vectorización del dataset completo\n",
        "    X = tfidf.transform(df[\"text\"])\n",
        "    y = df[\"label\"]\n",
        "    y_pred = nb.predict(X)\n",
        "\n",
        "    # Reporte de clasificación\n",
        "    report = classification_report(y, y_pred, output_dict=True)\n",
        "    df_report = pd.DataFrame(report).transpose()\n",
        "\n",
        "    st.dataframe(df_report.style.background_gradient(cmap=\"Blues\"))\n",
        "\n",
        "    # Matriz de confusión\n",
        "    cm = confusion_matrix(y, y_pred, labels=[\"ham\", \"spam\"])\n",
        "    fig, ax = plt.subplots()\n",
        "    sns.heatmap(cm, annot=True, fmt=\"d\", cmap=\"Blues\", xticklabels=[\"ham\", \"spam\"], yticklabels=[\"ham\", \"spam\"], ax=ax)\n",
        "    ax.set_xlabel(\"Predicción\")\n",
        "    ax.set_ylabel(\"Real\")\n",
        "    st.pyplot(fig)\n",
        "\n",
        "# ====================\n",
        "# ☁️ Nube de palabras\n",
        "# ====================\n",
        "with tab3:\n",
        "    st.subheader(\"Nube de palabras por categoría\")\n",
        "    col1, col2 = st.columns(2)\n",
        "\n",
        "    with col1:\n",
        "        st.markdown(\"### HAM\")\n",
        "        text_ham = \" \".join(df[df[\"label\"] == \"ham\"][\"text\"].tolist())\n",
        "        wordcloud_ham = WordCloud(width=400, height=300, background_color=\"white\").generate(text_ham)\n",
        "        fig, ax = plt.subplots()\n",
        "        ax.imshow(wordcloud_ham, interpolation=\"bilinear\")\n",
        "        ax.axis(\"off\")\n",
        "        st.pyplot(fig)\n",
        "\n",
        "    with col2:\n",
        "        st.markdown(\"### SPAM\")\n",
        "        text_spam = \" \".join(df[df[\"label\"] == \"spam\"][\"text\"].tolist())\n",
        "        wordcloud_spam = WordCloud(width=400, height=300, background_color=\"white\", colormap=\"Reds\").generate(text_spam)\n",
        "        fig, ax = plt.subplots()\n",
        "        ax.imshow(wordcloud_spam, interpolation=\"bilinear\")\n",
        "        ax.axis(\"off\")\n",
        "        st.pyplot(fig)"
      ],
      "metadata": {
        "colab": {
          "base_uri": "https://localhost:8080/"
        },
        "id": "SXX0Tu5NEq9N",
        "outputId": "c086851f-97c3-4233-b1f0-9148c0198d40"
      },
      "execution_count": 53,
      "outputs": [
        {
          "output_type": "stream",
          "name": "stdout",
          "text": [
            "Overwriting app.py\n"
          ]
        }
      ]
    },
    {
      "cell_type": "code",
      "source": [
        "import joblib\n",
        "\n",
        "# Guardar modelo y vectorizador\n",
        "joblib.dump(nb, \"modelo_spam.pkl\")\n",
        "joblib.dump(tfidf, \"vectorizador_tfidf.pkl\")"
      ],
      "metadata": {
        "colab": {
          "base_uri": "https://localhost:8080/"
        },
        "id": "VjS5Qd7HF6gi",
        "outputId": "bbebcceb-53f0-470c-989d-5edbfc830535"
      },
      "execution_count": 54,
      "outputs": [
        {
          "output_type": "execute_result",
          "data": {
            "text/plain": [
              "['vectorizador_tfidf.pkl']"
            ]
          },
          "metadata": {},
          "execution_count": 54
        }
      ]
    },
    {
      "cell_type": "code",
      "source": [
        "# ----------------------------------\n",
        "# Configurar ngrok y ejecutar Streamlit\n",
        "# ----------------------------------\n",
        "from pyngrok import ngrok\n",
        "\n",
        "# Autenticación de ngrok\n",
        "ngrok.set_auth_token(\"30o7TsMuntI5miQaxLyoGfwaOCz_2Jj8aqZgJnKXZ3cVc8t4\")"
      ],
      "metadata": {
        "id": "hOlw8cOyGSML"
      },
      "execution_count": 55,
      "outputs": []
    },
    {
      "cell_type": "code",
      "source": [
        "# Conectar ngrok al puerto 8501\n",
        "public_url = ngrok.connect(addr=8501)\n",
        "print(f\"Tu dashboard público estará disponible en: {public_url}\")"
      ],
      "metadata": {
        "colab": {
          "base_uri": "https://localhost:8080/"
        },
        "id": "HN5qtAnHGXGb",
        "outputId": "391cba9f-1405-48de-c93f-c28b1814c6bb"
      },
      "execution_count": 56,
      "outputs": [
        {
          "output_type": "stream",
          "name": "stdout",
          "text": [
            "Tu dashboard público estará disponible en: NgrokTunnel: \"https://4276d448f6e9.ngrok-free.app\" -> \"http://localhost:8501\"\n"
          ]
        }
      ]
    },
    {
      "cell_type": "code",
      "source": [
        "# Ejecutar Streamlit en modo headless\n",
        "!streamlit run app.py --server.port 8501 --server.headless true"
      ],
      "metadata": {
        "colab": {
          "base_uri": "https://localhost:8080/"
        },
        "id": "AmOOF3yvGa1W",
        "outputId": "fd9d2221-d1b6-47a0-accb-bfabf203b2db"
      },
      "execution_count": 57,
      "outputs": [
        {
          "output_type": "stream",
          "name": "stdout",
          "text": [
            "\n",
            "Collecting usage statistics. To deactivate, set browser.gatherUsageStats to false.\n",
            "\u001b[0m\n",
            "\u001b[0m\n",
            "\u001b[34m\u001b[1m  You can now view your Streamlit app in your browser.\u001b[0m\n",
            "\u001b[0m\n",
            "\u001b[34m  Local URL: \u001b[0m\u001b[1mhttp://localhost:8501\u001b[0m\n",
            "\u001b[34m  Network URL: \u001b[0m\u001b[1mhttp://172.28.0.12:8501\u001b[0m\n",
            "\u001b[34m  External URL: \u001b[0m\u001b[1mhttp://35.196.114.123:8501\u001b[0m\n",
            "\u001b[0m\n"
          ]
        },
        {
          "output_type": "stream",
          "name": "stderr",
          "text": [
            "WARNING:pyngrok.process.ngrok:t=2025-08-27T02:30:07+0000 lvl=warn msg=\"failed to check for update\" obj=updater err=\"Post \\\"https://update.equinox.io/check\\\": context deadline exceeded\"\n"
          ]
        },
        {
          "output_type": "stream",
          "name": "stdout",
          "text": [
            "Columnas originales: ['v1', 'v2', 'Unnamed: 2', 'Unnamed: 3', 'Unnamed: 4']\n",
            "Columnas finales: ['label', 'text']\n",
            "Primeros registros:\n",
            " label                                                                                                                                                        text\n",
            "  ham                                             Go until jurong point, crazy.. Available only in bugis n great world la e buffet... Cine there got amore wat...\n",
            "  ham                                                                                                                               Ok lar... Joking wif u oni...\n",
            " spam Free entry in 2 a wkly comp to win FA Cup final tkts 21st May 2005. Text FA to 87121 to receive entry question(std txt rate)T&C's apply 08452810075over18's\n",
            "Columnas originales: ['v1', 'v2', 'Unnamed: 2', 'Unnamed: 3', 'Unnamed: 4']\n",
            "Columnas finales: ['label', 'text']\n",
            "Primeros registros:\n",
            " label                                                                                                                                                        text\n",
            "  ham                                             Go until jurong point, crazy.. Available only in bugis n great world la e buffet... Cine there got amore wat...\n",
            "  ham                                                                                                                               Ok lar... Joking wif u oni...\n",
            " spam Free entry in 2 a wkly comp to win FA Cup final tkts 21st May 2005. Text FA to 87121 to receive entry question(std txt rate)T&C's apply 08452810075over18's\n",
            "Columnas originales: ['v1', 'v2', 'Unnamed: 2', 'Unnamed: 3', 'Unnamed: 4']\n",
            "Columnas finales: ['label', 'text']\n",
            "Primeros registros:\n",
            " label                                                                                                                                                        text\n",
            "  ham                                             Go until jurong point, crazy.. Available only in bugis n great world la e buffet... Cine there got amore wat...\n",
            "  ham                                                                                                                               Ok lar... Joking wif u oni...\n",
            " spam Free entry in 2 a wkly comp to win FA Cup final tkts 21st May 2005. Text FA to 87121 to receive entry question(std txt rate)T&C's apply 08452810075over18's\n",
            "Columnas originales: ['v1', 'v2', 'Unnamed: 2', 'Unnamed: 3', 'Unnamed: 4']\n",
            "Columnas finales: ['label', 'text']\n",
            "Primeros registros:\n",
            " label                                                                                                                                                        text\n",
            "  ham                                             Go until jurong point, crazy.. Available only in bugis n great world la e buffet... Cine there got amore wat...\n",
            "  ham                                                                                                                               Ok lar... Joking wif u oni...\n",
            " spam Free entry in 2 a wkly comp to win FA Cup final tkts 21st May 2005. Text FA to 87121 to receive entry question(std txt rate)T&C's apply 08452810075over18's\n",
            "Columnas originales: ['v1', 'v2', 'Unnamed: 2', 'Unnamed: 3', 'Unnamed: 4']\n",
            "Columnas finales: ['label', 'text']\n",
            "Primeros registros:\n",
            " label                                                                                                                                                        text\n",
            "  ham                                             Go until jurong point, crazy.. Available only in bugis n great world la e buffet... Cine there got amore wat...\n",
            "  ham                                                                                                                               Ok lar... Joking wif u oni...\n",
            " spam Free entry in 2 a wkly comp to win FA Cup final tkts 21st May 2005. Text FA to 87121 to receive entry question(std txt rate)T&C's apply 08452810075over18's\n",
            "Columnas originales: ['v1', 'v2', 'Unnamed: 2', 'Unnamed: 3', 'Unnamed: 4']\n",
            "Columnas finales: ['label', 'text']\n",
            "Primeros registros:\n",
            " label                                                                                                                                                        text\n",
            "  ham                                             Go until jurong point, crazy.. Available only in bugis n great world la e buffet... Cine there got amore wat...\n",
            "  ham                                                                                                                               Ok lar... Joking wif u oni...\n",
            " spam Free entry in 2 a wkly comp to win FA Cup final tkts 21st May 2005. Text FA to 87121 to receive entry question(std txt rate)T&C's apply 08452810075over18's\n",
            "Columnas originales: ['v1', 'v2', 'Unnamed: 2', 'Unnamed: 3', 'Unnamed: 4']\n",
            "Columnas finales: ['label', 'text']\n",
            "Primeros registros:\n",
            " label                                                                                                                                                        text\n",
            "  ham                                             Go until jurong point, crazy.. Available only in bugis n great world la e buffet... Cine there got amore wat...\n",
            "  ham                                                                                                                               Ok lar... Joking wif u oni...\n",
            " spam Free entry in 2 a wkly comp to win FA Cup final tkts 21st May 2005. Text FA to 87121 to receive entry question(std txt rate)T&C's apply 08452810075over18's\n",
            "Columnas originales: ['v1', 'v2', 'Unnamed: 2', 'Unnamed: 3', 'Unnamed: 4']\n",
            "Columnas finales: ['label', 'text']\n",
            "Primeros registros:\n",
            " label                                                                                                                                                        text\n",
            "  ham                                             Go until jurong point, crazy.. Available only in bugis n great world la e buffet... Cine there got amore wat...\n",
            "  ham                                                                                                                               Ok lar... Joking wif u oni...\n",
            " spam Free entry in 2 a wkly comp to win FA Cup final tkts 21st May 2005. Text FA to 87121 to receive entry question(std txt rate)T&C's apply 08452810075over18's\n",
            "Columnas originales: ['v1', 'v2', 'Unnamed: 2', 'Unnamed: 3', 'Unnamed: 4']\n",
            "Columnas finales: ['label', 'text']\n",
            "Primeros registros:\n",
            " label                                                                                                                                                        text\n",
            "  ham                                             Go until jurong point, crazy.. Available only in bugis n great world la e buffet... Cine there got amore wat...\n",
            "  ham                                                                                                                               Ok lar... Joking wif u oni...\n",
            " spam Free entry in 2 a wkly comp to win FA Cup final tkts 21st May 2005. Text FA to 87121 to receive entry question(std txt rate)T&C's apply 08452810075over18's\n",
            "Columnas originales: ['v1', 'v2', 'Unnamed: 2', 'Unnamed: 3', 'Unnamed: 4']\n",
            "Columnas finales: ['label', 'text']\n",
            "Primeros registros:\n",
            " label                                                                                                                                                        text\n",
            "  ham                                             Go until jurong point, crazy.. Available only in bugis n great world la e buffet... Cine there got amore wat...\n",
            "  ham                                                                                                                               Ok lar... Joking wif u oni...\n",
            " spam Free entry in 2 a wkly comp to win FA Cup final tkts 21st May 2005. Text FA to 87121 to receive entry question(std txt rate)T&C's apply 08452810075over18's\n",
            "Columnas originales: ['v1', 'v2', 'Unnamed: 2', 'Unnamed: 3', 'Unnamed: 4']\n",
            "Columnas finales: ['label', 'text']\n",
            "Primeros registros:\n",
            " label                                                                                                                                                        text\n",
            "  ham                                             Go until jurong point, crazy.. Available only in bugis n great world la e buffet... Cine there got amore wat...\n",
            "  ham                                                                                                                               Ok lar... Joking wif u oni...\n",
            " spam Free entry in 2 a wkly comp to win FA Cup final tkts 21st May 2005. Text FA to 87121 to receive entry question(std txt rate)T&C's apply 08452810075over18's\n",
            "Columnas originales: ['v1', 'v2', 'Unnamed: 2', 'Unnamed: 3', 'Unnamed: 4']\n",
            "Columnas finales: ['label', 'text']\n",
            "Primeros registros:\n",
            " label                                                                                                                                                        text\n",
            "  ham                                             Go until jurong point, crazy.. Available only in bugis n great world la e buffet... Cine there got amore wat...\n",
            "  ham                                                                                                                               Ok lar... Joking wif u oni...\n",
            " spam Free entry in 2 a wkly comp to win FA Cup final tkts 21st May 2005. Text FA to 87121 to receive entry question(std txt rate)T&C's apply 08452810075over18's\n",
            "Columnas originales: ['v1', 'v2', 'Unnamed: 2', 'Unnamed: 3', 'Unnamed: 4']\n",
            "Columnas finales: ['label', 'text']\n",
            "Primeros registros:\n",
            " label                                                                                                                                                        text\n",
            "  ham                                             Go until jurong point, crazy.. Available only in bugis n great world la e buffet... Cine there got amore wat...\n",
            "  ham                                                                                                                               Ok lar... Joking wif u oni...\n",
            " spam Free entry in 2 a wkly comp to win FA Cup final tkts 21st May 2005. Text FA to 87121 to receive entry question(std txt rate)T&C's apply 08452810075over18's\n",
            "Columnas originales: ['v1', 'v2', 'Unnamed: 2', 'Unnamed: 3', 'Unnamed: 4']\n",
            "Columnas finales: ['label', 'text']\n",
            "Primeros registros:\n",
            " label                                                                                                                                                        text\n",
            "  ham                                             Go until jurong point, crazy.. Available only in bugis n great world la e buffet... Cine there got amore wat...\n",
            "  ham                                                                                                                               Ok lar... Joking wif u oni...\n",
            " spam Free entry in 2 a wkly comp to win FA Cup final tkts 21st May 2005. Text FA to 87121 to receive entry question(std txt rate)T&C's apply 08452810075over18's\n",
            "Columnas originales: ['v1', 'v2', 'Unnamed: 2', 'Unnamed: 3', 'Unnamed: 4']\n",
            "Columnas finales: ['label', 'text']\n",
            "Primeros registros:\n",
            " label                                                                                                                                                        text\n",
            "  ham                                             Go until jurong point, crazy.. Available only in bugis n great world la e buffet... Cine there got amore wat...\n",
            "  ham                                                                                                                               Ok lar... Joking wif u oni...\n",
            " spam Free entry in 2 a wkly comp to win FA Cup final tkts 21st May 2005. Text FA to 87121 to receive entry question(std txt rate)T&C's apply 08452810075over18's\n",
            "\u001b[34m  Stopping...\u001b[0m\n",
            "\u001b[34m  Stopping...\u001b[0m\n"
          ]
        }
      ]
    }
  ]
}